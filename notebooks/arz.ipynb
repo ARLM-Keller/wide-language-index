{
 "cells": [
  {
   "cell_type": "markdown",
   "metadata": {},
   "source": [
    "# Egyptian Arabic (arz)\n",
    "\n",
    "Hard to separate from Standard Arabic (arb)."
   ]
  },
  {
   "cell_type": "code",
   "execution_count": 1,
   "metadata": {
    "collapsed": false
   },
   "outputs": [],
   "source": [
    "LANGUAGE = 'arz'"
   ]
  },
  {
   "cell_type": "code",
   "execution_count": 2,
   "metadata": {
    "collapsed": true
   },
   "outputs": [],
   "source": [
    "from pyquery import PyQuery as pq\n",
    "import sys\n",
    "import requests\n",
    "\n",
    "sys.path.append('../src')\n",
    "import index"
   ]
  },
  {
   "cell_type": "markdown",
   "metadata": {},
   "source": [
    "## The Joint Language University"
   ]
  },
  {
   "cell_type": "code",
   "execution_count": 3,
   "metadata": {
    "collapsed": true
   },
   "outputs": [],
   "source": [
    "DIRECTORY = 'https://jlu.wbtrain.com/sumtotal/language/DLI%20basic%20courses/Egyptian%20Arabic/Audio/'\n",
    "SOURCE_NAME = 'The Joint Language University'\n",
    "DATE = '2006-04-28'"
   ]
  },
  {
   "cell_type": "code",
   "execution_count": 4,
   "metadata": {
    "collapsed": true
   },
   "outputs": [],
   "source": [
    "def iter_lessons():\n",
    "    doc = pq(DIRECTORY)\n",
    "\n",
    "    for a in doc('a'):\n",
    "        media_url = 'https://jlu.wbtrain.com' + a.attrib['href']\n",
    "        title = a.text_content()\n",
    "\n",
    "        if 'Lesson' in title and 'side' in title and media_url.endswith('.mp3'):\n",
    "            yield {\n",
    "                'source_url': media_url,\n",
    "                'source_name': SOURCE_NAME,\n",
    "                'language': LANGUAGE,\n",
    "                'title': title[:-4],\n",
    "                'media_urls': [media_url],\n",
    "                'date': DATE,\n",
    "            }"
   ]
  },
  {
   "cell_type": "code",
   "execution_count": 5,
   "metadata": {
    "collapsed": false
   },
   "outputs": [
    {
     "name": "stdout",
     "output_type": "stream",
     "text": [
      "1. Module 01 Lesson 01-02 side a (skipping)\n",
      "2. Module 01 Lesson 03-04 side a (skipping)\n",
      "3. Module 01 Lesson 03-04 side b (skipping)\n",
      "4. Module 02 Lesson 05-06 side b (skipping)\n",
      "5. Module 02 Lesson 07-08 side a (skipping)\n",
      "6. Module 02 Lesson 07-08 side b (skipping)\n",
      "7. Module 03 Lesson 10 side 1 (skipping)\n",
      "8. Module 03 Lesson 11 side 1 (skipping)\n",
      "9. Module 03 Lesson 11 side 2 (skipping)\n",
      "10. Module 03 Lesson 12 side 1 (skipping)\n",
      "11. Module 04 Lesson 13 side a (skipping)\n",
      "12. Module 04 Lesson 13 side b (skipping)\n",
      "13. Module 04 Lesson 15 side a (skipping)\n",
      "14. Module 04 Lesson 15 side b (skipping)\n",
      "15. Module 04 Lesson 16 side a (skipping)\n",
      "16. Module 05 Lesson 17-18 side a (skipping)\n",
      "17. Module 05 Lesson 17-18 side b (skipping)\n",
      "18. Module 05 Lesson 19-20 side a (skipping)\n",
      "19. Module 05 Lesson 19-20 side b (skipping)\n",
      "20. Module 07 Lesson 25-26 side a (skipping)\n",
      "21. Module 07 Lesson 25-26 side b (skipping)\n",
      "22. Module 07 Lesson 27-28 side a (skipping)\n",
      "23. Module 07 Lesson 27-28 side b (skipping)\n",
      "24. Module 08 Lesson 29-30 side a (skipping)\n",
      "25. Module 08 Lesson 29-30 side b (skipping)\n",
      "26. Module 08 Lesson 31-32 side a (skipping)\n",
      "27. Module 08 Lesson 31-32 side b (skipping)\n",
      "28. Module 09 Lesson 33-34 side a (skipping)\n",
      "29. Module 09 Lesson 33-34 side b (skipping)\n",
      "30. Module 09 Lesson 35-36 side a (skipping)\n",
      "31. Module 09 Lesson 35-36 side b (skipping)\n",
      "32. Module 10 Lesson 37-38 side a (skipping)\n",
      "33. Module 10 Lesson 37-38 side b (skipping)\n",
      "34. Module 10 Lesson 39-40 side a (skipping)\n",
      "35. Module 10 Lesson 39-40 side b (skipping)\n",
      "36. Module 11 Lesson 41-42 side a (skipping)\n",
      "37. Module 11 Lesson 41-42 side b (skipping)\n",
      "38. Module 11 Lesson 43-44 side a (skipping)\n",
      "39. Module 11 Lesson 43-44 side b (skipping)\n",
      "40. Module 12 Lesson 45-46 side a (skipping)\n",
      "41. Module 12 Lesson 45-46 side b (skipping)\n",
      "42. Module 12 Lesson 47-48 side a (skipping)\n",
      "43. Module 12 Lesson 47-48 side b (skipping)\n"
     ]
    }
   ],
   "source": [
    "seen = index.scan()\n",
    "\n",
    "for i, sample in enumerate(iter_lessons()):\n",
    "    if sample['source_url'] in seen:\n",
    "        print('{0}. {1} (skipping)'.format(i + 1, sample['title']),\n",
    "              flush=True)\n",
    "        continue\n",
    "    \n",
    "    print('{0}. {1}'.format(i + 1, sample['title']), flush=True)\n",
    "    staged = index.stage_audio(sample['media_urls'][0], LANGUAGE, method='requests')\n",
    "    if staged.checksum in seen:\n",
    "        print('   SKIPPING: checksum already in index')\n",
    "        continue\n",
    "    \n",
    "    sample['checksum'] = staged.checksum\n",
    "    index.save(sample)"
   ]
  }
 ],
 "metadata": {
  "kernelspec": {
   "display_name": "Python 3",
   "language": "python",
   "name": "python3"
  },
  "language_info": {
   "codemirror_mode": {
    "name": "ipython",
    "version": 3
   },
   "file_extension": ".py",
   "mimetype": "text/x-python",
   "name": "python",
   "nbconvert_exporter": "python",
   "pygments_lexer": "ipython3",
   "version": "3.4.2"
  }
 },
 "nbformat": 4,
 "nbformat_minor": 0
}
