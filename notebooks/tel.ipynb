{
 "cells": [
  {
   "cell_type": "markdown",
   "metadata": {},
   "source": [
    "# Telugu (tel)\n",
    "\n",
    "Manually scraping podcasts for Telugu from html pages."
   ]
  },
  {
   "cell_type": "code",
   "execution_count": 1,
   "metadata": {
    "collapsed": false
   },
   "outputs": [],
   "source": [
    "from pyquery import PyQuery as pq\n",
    "import parse\n",
    "import dateutil\n",
    "import sys\n",
    "\n",
    "import sys; sys.path.append(\"../src\")\n",
    "import index\n",
    "import fetch_rss_feed"
   ]
  },
  {
   "cell_type": "markdown",
   "metadata": {},
   "source": [
    "## The Hindu\n",
    "\n",
    "The Hindu has a list of editorials translated into Telugu audio. We fetch them here."
   ]
  },
  {
   "cell_type": "code",
   "execution_count": 2,
   "metadata": {
    "collapsed": true
   },
   "outputs": [],
   "source": [
    "def date_from_title(t):\n",
    "    date_s = parse.parse(\n",
    "        '{prefix}orial, {date} Translated by{suffix}',\n",
    "        t\n",
    "    ).named['date'].rstrip('.')\n",
    "    return dateutil.parser.parse(date_s).date()"
   ]
  },
  {
   "cell_type": "code",
   "execution_count": 3,
   "metadata": {
    "collapsed": false
   },
   "outputs": [],
   "source": [
    "def fetch_thehindu_episodes(max_episodes=20):\n",
    "    url = 'http://www.thehindu.com/opinion/editorial/article2695389.ece'\n",
    "    doc = pq(url)\n",
    "    seen = index.scan()\n",
    "\n",
    "    for i, div in enumerate(doc('div.stdArtpageRelCt')[:max_episodes]):\n",
    "        title = div.text_content().strip()\n",
    "        href = div.find('.//a').attrib['href']\n",
    "        media_url = fetch_rss_feed.get_audio_link(href)\n",
    "        if not media_url:\n",
    "            print('{0}. {1} (no audio, skipping)'.format(i + 1, title))\n",
    "            continue\n",
    "        \n",
    "        if href in seen or media_url in seen:\n",
    "            print('{0}. {1} (skipping)'.format(i + 1, title))\n",
    "            continue\n",
    "\n",
    "        print('{0}. {1}'.format(i + 1, title))\n",
    "        try:\n",
    "            date = date_from_title(title)\n",
    "        except (AttributeError, ValueError) as e:\n",
    "            print('SKIPPING: bad title')\n",
    "            continue\n",
    "\n",
    "        sample = {\n",
    "            'language': 'tel',\n",
    "            'title': title,\n",
    "            'source_name': 'The Hindu: Podcasts in Telugu',\n",
    "            'source_url': href,\n",
    "            'media_urls': [media_url],\n",
    "            'date': str(date),\n",
    "        }\n",
    "        _, checksum = index.stage_audio(media_url, 'tel')\n",
    "        sample['checksum'] = checksum\n",
    "        if checksum in seen:\n",
    "            print('SKIPPING: checksum already in index')\n",
    "\n",
    "        index.save(sample)"
   ]
  },
  {
   "cell_type": "code",
   "execution_count": 4,
   "metadata": {
    "collapsed": false,
    "scrolled": true
   },
   "outputs": [
    {
     "name": "stdout",
     "output_type": "stream",
     "text": [
      "1. Where there is a will [Telugu: Manasunte maargamundi] Editorial, December 5, 2012. Translated by V.R. Subrahmanyam, presented by Srinivas Ghantasala (skipping)\n",
      "2. Memorialising Thackeray [Telugu: Thackeray smaraka chihnam erpatu vivadam] Eidtorial, December 4, 2012. Translated by V.R. Subrahmanyam, presented by Srinivas Ghantasala (skipping)\n",
      "3. Mining politics for a second lease [Telugu: Koththa jeevitham kosam gannu rajakiyalu] Editorial, December 3, 2012. Translated by V.R. Subrahmanyam, presented by Srinivas Ghantasala (skipping)\n",
      "4. Mamata scores, for Manmohan [Telugu: Manmohan vijayam kosam Mamata saayam] Editorial, November 24, 2012. Translated by V.R. Subrahmanyam, presented by Srinivas Ghantasala (skipping)\n",
      "5. Sealing the cracks [Telugu: Pagulla moosivetha] Editorial, November 23, 2012. Translated by V.R. Subrahmanyam, presented by Srinivas Ghantasala (skipping)\n",
      "6. Congress in the time of Rahul [Telugu: Rahul Gandhi saaradyamlo Congress] Editorial, November 20, 2012. Translated by V.R. Subrahmanyam, presented by Srinivas Ghantasala (skipping)\n",
      "7. Necessary catharsis [Telugu: Kshaalana prakriya avashyakata] Editorial, November 17, 2012. Translated by V.R. Subrahmanyam, presented by Srinivas Ghantasala (skipping)\n",
      "8. Welcome to Garbagopolis [Telugu: Chaththanagaramuku swagatam] Editorial, November 14, 2012. Translated by V. R. Subrahmanyam, presented by Srinivas Ghantasala (skipping)\n",
      "9. More work to do [Telugu: Chesenduku ento pani] Editorial, November 8, 2012. Translated by V.R. Subrahmanyam, presented by Srinivas Ghantasala (skipping)\n",
      "10. Farewell to the mango people [Telugu: Aam aadmiki veedkolu] Editorial, November 6, 2012. Translated by V.R. Subrahmanyam, presented by Srinivas Ghantasala (skipping)\n",
      "11. Needed, a permanent solution [Telugu: Saaswatha parishkaram avasaram] Editorial, November 7, 2012. Translated by V.R. Subrahmanyam, presented by Srinivas Ghantasala (skipping)\n",
      "12. Making cities liveable [Telugu: Jeevana yogyamga pattanaalanu teerchi thiddadam] Editorial, November 3, 2012 Translated by V.R. Subrahmanyam, presented by Srinivas Ghantasala (skipping)\n",
      "13. Mali on the brink [Telugu: Yuddha pramaadam anchuna Mali] Editorial, October 31, 2012. Translated by V.R. Subrahmanyam, presented by Srinivas Ghantasala (skipping)\n",
      "14. The original sin of November 1984 [Telugu: 1984 naati asalu paapam] Editorial, November 1, 2012. Translated by V.R. Subrahmanyam, presented by Srinivas Ghantasala (skipping)\n",
      "15. An attack on media freedom [Telugu: Media swetcha pai dadi] November 2, 2012. Translated by V.R. Subrahmanyam, presented by Srinivas Ghantasala\n",
      "SKIPPING: bad title\n",
      "16. Pre-poll footfalls [Telugu: Ennikala padayatralu] October 24, 2012. Translated by V.R. Subrahmanyam, presented by Srinivas Ghantasala\n",
      "SKIPPING: bad title\n",
      "17. A probe we all can trust in [Telugu: Manamk nammadagga vichaarana] October 16, Translated by V.R. Subrahmanyam, presented by Srinivas Ghantasala\n",
      "SKIPPING: bad title\n",
      "18. The rape of reason [Telugu: Manamk nammadagga vichaarana] October 15, 2012. Translated by V.R. Subrahmanyam, presented by Srinivas Ghantasala\n",
      "SKIPPING: bad title\n",
      "19. A patch to call their own [Telugu: Tama sonthaaniki bhumi] October 13, 2012. Translated by V.R. Subrahmanyam, presented by Srinivas Ghantasala\n",
      "SKIPPING: bad title\n",
      "20. [Mis]treating Ms. Gandhi [Telugu: Sreemathi Gandhi patla amaryaada] October 5, Translated by V.R. Subrahmanyam, presented by Srinivas Ghantasala\n",
      "SKIPPING: bad title\n"
     ]
    }
   ],
   "source": [
    "fetch_thehindu_episodes()"
   ]
  },
  {
   "cell_type": "markdown",
   "metadata": {},
   "source": [
    "## Telugu One Radio"
   ]
  },
  {
   "cell_type": "code",
   "execution_count": 5,
   "metadata": {
    "collapsed": false
   },
   "outputs": [
    {
     "name": "stdout",
     "output_type": "stream",
     "text": [
      "1. Manalo Mana Mata (skipping)\n",
      "2. Manalo Mana Mata (skipping)\n",
      "3. Manalo Mana Mata (skipping)\n",
      "4. Manalo Manamata (skipping)\n",
      "5. Manalomanamata (skipping)\n",
      "6. Manalo Mana Mata (skipping)\n",
      "7. Manalo Mana Mata (skipping)\n",
      "8. Manalomanamata (skipping)\n",
      "9. Manalomanamata (skipping)\n",
      "10. Manalo Mana Mata (skipping)\n",
      "11. Manalomanamata (skipping)\n",
      "12. Manalo Mana Mata (skipping)\n",
      "13. Manalomanamata (skipping)\n",
      "14. Manalomanamata (skipping)\n",
      "15. Manalomanamata (skipping)\n",
      "16. Manalomanamata (skipping)\n",
      "17. Manalomanamata (skipping)\n",
      "18. Manalomanamata (skipping)\n",
      "19. manalo mana mata (skipping)\n",
      "20. Manalo Manamata (skipping)\n"
     ]
    }
   ],
   "source": [
    "def get_host_name(doc):\n",
    "    title = doc('.heading > a')[1].text\n",
    "    return parse.parse('{} ( Archives )', title).fixed[0].strip()\n",
    "\n",
    "def fetch_telugu_one_mp3(url):\n",
    "    doc = pq(url)\n",
    "    mp3_suffix = parse.parse(\"{}so.addVariable('file', '{}');{}\", pq.html(doc)).fixed[1]\n",
    "    return 'http://www.teluguoneradio.com' + mp3_suffix\n",
    "\n",
    "def fetch_telugu_one_host(url, max_episodes=20):\n",
    "    seen = index.scan()\n",
    "\n",
    "    doc = pq(url)\n",
    "    host_name = get_host_name(doc)\n",
    "    \n",
    "    rows = doc('.archives_content_main1 tr')[1:]\n",
    "    for i, tr in enumerate(rows[:max_episodes]):\n",
    "        td_date, td_name, td_url = tr.findall('.//td')\n",
    "        source_url = 'http://www.teluguoneradio.com/' + td_url.find('.//a').attrib['href']\n",
    "        date = dateutil.parser.parse(td_date.text_content()).date()\n",
    "        title = td_name.text_content().strip()\n",
    "        if source_url in seen:\n",
    "            print('{0}. {1} (skipping)'.format(i + 1, title))\n",
    "            continue\n",
    "            \n",
    "        print('{0}. {1}'.format(i + 1, title))\n",
    "        sys.stdout.flush()\n",
    "\n",
    "        media_url = fetch_telugu_one_mp3(source_url)\n",
    "        _, checksum = index.stage_audio(media_url, 'tel')\n",
    "        if checksum in seen:\n",
    "            print('SKIPPING: checksum already in index')\n",
    "            continue\n",
    "            \n",
    "        sample = {\n",
    "            'language': 'tel',\n",
    "            'source_name': 'Telugu One Radio: {0}'.format(host_name),\n",
    "            'title': title,\n",
    "            'date': str(date),\n",
    "            'source_url': source_url,\n",
    "            'media_urls': [media_url],\n",
    "            'checksum': checksum,\n",
    "        }\n",
    "        index.save(sample)\n",
    "\n",
    "fetch_telugu_one_host('http://www.teluguoneradio.com/archiveshostallprogrames.php?host_id=62')"
   ]
  }
 ],
 "metadata": {
  "kernelspec": {
   "display_name": "Python 3",
   "language": "python",
   "name": "python3"
  },
  "language_info": {
   "codemirror_mode": {
    "name": "ipython",
    "version": 3
   },
   "file_extension": ".py",
   "mimetype": "text/x-python",
   "name": "python",
   "nbconvert_exporter": "python",
   "pygments_lexer": "ipython3",
   "version": "3.4.2"
  }
 },
 "nbformat": 4,
 "nbformat_minor": 0
}
