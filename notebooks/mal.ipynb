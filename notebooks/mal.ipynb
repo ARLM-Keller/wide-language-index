{
 "cells": [
  {
   "cell_type": "markdown",
   "metadata": {},
   "source": [
    "# Malayam (mal)\n",
    "\n",
    "Manually scraping podcasts for Malayam from html pages."
   ]
  },
  {
   "cell_type": "code",
   "execution_count": 1,
   "metadata": {
    "collapsed": false
   },
   "outputs": [],
   "source": [
    "from pyquery import PyQuery as pq\n",
    "import parse\n",
    "import dateutil\n",
    "import sys\n",
    "\n",
    "import sys; sys.path.append(\"../src\")\n",
    "import index\n",
    "import fetch_rss_feed"
   ]
  },
  {
   "cell_type": "code",
   "execution_count": 2,
   "metadata": {
    "collapsed": true
   },
   "outputs": [],
   "source": [
    "LANGUAGE = 'mal'"
   ]
  },
  {
   "cell_type": "markdown",
   "metadata": {},
   "source": [
    "## The Hindu\n",
    "\n",
    "The Hindu has a list of editorials translated into Tamil audio. We fetch them here."
   ]
  },
  {
   "cell_type": "code",
   "execution_count": 3,
   "metadata": {
    "collapsed": true
   },
   "outputs": [],
   "source": [
    "def date_from_title(t):\n",
    "    date_s = parse.parse(\n",
    "        '{prefix}orial, {date} Translated {suffix}',\n",
    "        t\n",
    "    ).named['date'].rstrip('.')\n",
    "    return dateutil.parser.parse(date_s).date()"
   ]
  },
  {
   "cell_type": "code",
   "execution_count": 4,
   "metadata": {
    "collapsed": false
   },
   "outputs": [],
   "source": [
    "THEHINDU_URL = 'http://www.thehindu.com/opinion/editorial/article2692451.ece'\n",
    "THEHINDU_NAME = 'The Hindu: Podcasts in Malayam'\n",
    "\n",
    "def fetch_thehindu_episodes(max_episodes=20):\n",
    "    url = THEHINDU_URL\n",
    "    doc = pq(url)\n",
    "    seen = index.scan()\n",
    "\n",
    "    for i, div in enumerate(doc('div.stdArtpageRelCt')[:max_episodes]):\n",
    "        sys.stdout.flush()\n",
    "        title = div.text_content().strip()\n",
    "        href = div.find('.//a').attrib['href']\n",
    "        media_url = fetch_rss_feed.get_audio_link(href)\n",
    "        if not media_url:\n",
    "            print('{0}. {1} (no audio, skipping)'.format(i + 1, title))\n",
    "            continue\n",
    "        \n",
    "        if href in seen or media_url in seen:\n",
    "            print('{0}. {1} (skipping)'.format(i + 1, title))\n",
    "            continue\n",
    "\n",
    "        print('{0}. {1}'.format(i + 1, title))\n",
    "        try:\n",
    "            date = date_from_title(title)\n",
    "        except (AttributeError, ValueError) as e:\n",
    "            print('SKIPPING: bad title')\n",
    "            continue\n",
    "\n",
    "        sample = {\n",
    "            'language': LANGUAGE,\n",
    "            'title': title,\n",
    "            'source_name': THEHINDU_NAME,\n",
    "            'source_url': href,\n",
    "            'media_urls': [media_url],\n",
    "            'date': str(date),\n",
    "        }\n",
    "        sys.stdout.flush()\n",
    "        \n",
    "        staged = index.stage_audio(media_url, LANGUAGE)\n",
    "        sample['checksum'] = staged.checksum\n",
    "        if staged.checksum in seen:\n",
    "            print('SKIPPING: checksum already in index')\n",
    "\n",
    "        index.save(sample)"
   ]
  },
  {
   "cell_type": "code",
   "execution_count": 5,
   "metadata": {
    "collapsed": false,
    "scrolled": true
   },
   "outputs": [
    {
     "name": "stdout",
     "output_type": "stream",
     "text": [
      "1. The rape of reason [Malayalam: Yukthiye manabhangam cheyyumpol] Editorial, October 15, 2012. Translated by Rasmi Binoy, presented by A Correspondent (skipping)\n",
      "2. A patch to call their own [Malayalam: Swantamennu vilikkaan oridam]. Editorial, October 13, 2012. Translated by Rasmi Binoy, Presented by A Correspondent\n",
      "   downloading http://www.thehindu.com/multimedia/archive/01236/Malayalam_Patch_to_1236786a.mp3\n",
      "3. The drive for exclusivism [Malayalam: Thangalkku vendi maathram]. Editorial, October 11, 2012. Translated by Rasmi Binoy, Presented by A Correspondent\n",
      "   downloading http://www.thehindu.com/multimedia/archive/01236/Malayalam_2_1236785a.mp3\n",
      "4. (Mis)treating Ms. Gandhi (Malayalam: Apahasyamaya rashtreeya thantram). Editorial, October 5, 2012. Translated by Rasmi Binoy, Presented by A Correspondent\n",
      "   downloading http://www.thehindu.com/multimedia/archive/01228/MalayalamPodcast_1228990a.mp3\n",
      "5. The status of Malayalam [Malayalam: Malayalayhinte padavi]. Editorial, October 4, 2012. Translated by Rasmi Binoy, Presented by A Correspondent\n",
      "   downloading http://www.thehindu.com/multimedia/archive/01228/MalayalamLanguageE_1228785a.mp3\n",
      "6. Securing the rhino's future [Malayalam: Kandamrugangalude surakshakku]. Editorial, October 3, 2012. Translated by Rasmi Binoy, Presented by A Correspondent\n",
      "   downloading http://www.thehindu.com/multimedia/archive/01228/MalayalamRhinoEdit_1228759a.mp3\n",
      "7. Kerala as investors' paradise [Malayalam: Keralam nikshapakarude parudeesayakumo?] Editorial, September 20, 2012. Translated by Rasmi Binoy, Presented by A Correspondent\n",
      "   downloading http://www.thehindu.com/multimedia/archive/01222/MalayalamKeralaEdi_1222455a.mp3\n",
      "8. An excessive remedy (Malayalam: Erippoya marunnu ). Editorial, September 18, 2012. Translated by Rasmi Binoy, presented by A Correspondent\n",
      "   downloading http://www.thehindu.com/multimedia/archive/01212/MalayalamRemedyEdi_1212723a.mp3\n",
      "9. Irrational exuberance [Malayalam: Adisthanarahitamaya aahladathimirppu]. Editorial, September 17, 2012. Translated by Rasmi Binoy, presented by A Correspondent\n",
      "   downloading http://www.thehindu.com/multimedia/archive/01212/MalayalamExuberant_1212721a.mp3\n",
      "10. Inflation gets diesel power [Malayalam: Panapperuppathinoru diesel kuthippu]. Editorial, September 15, 2012. Translated by Rasmi Binoy, presented by A Correspondent\n",
      "   downloading http://www.thehindu.com/multimedia/archive/01211/MalayalamDieselEdi_1211773a.mp3\n",
      "11. A fair deal for domestic work [Malayalam: Gaarhika thozhilinte neethisastram]. Editorial, September 14, 2012. Translated by Rasmi Binoy, presented by A Correspondent\n",
      "   downloading http://www.thehindu.com/multimedia/archive/01209/MalayalamDomesticE_1209200a.mp3\n",
      "12. Libya's spiral of violence [Malayalam: Aswasthakalude Libya]. Editorial, September 13, 2012. Translated by Rasmi Binoy, presented by A Correspondent\n",
      "   downloading http://www.thehindu.com/multimedia/archive/01208/MalayalamLibyaEdit_1208960a.mp3\n",
      "13. Byte by byte, in God's own country: Kerala is developing as an alternative IT hub to its better established neighbours (Malayalam: Deivathinte swantam naattil, oru vivarasangethika munnettam). Article by Raghuvir Srinivasan, Op-Ed page, September 12, 2011. Translated by Rasmi Binoy\n",
      "SKIPPING: bad title\n",
      "14. Don't compromise open justice [Malayalam: Sutharya neethi]. Editorial, September 12, 2012. Translated by Rasmi Binoy, presented by A Correspondent\n",
      "   downloading http://www.thehindu.com/multimedia/archive/01206/MalayalamJusticeEd_1206783a.mp3\n",
      "15. Sedition? Seriously? [Malayalam: Rajyadrohathinte kanappurangal]. Editorial, September 11, 2012. Translated by Rasmi Binoy, presented by A Correspondent\n",
      "   downloading http://www.thehindu.com/multimedia/archive/01206/MalayalamSeditionE_1206778a.mp3\n",
      "16. A magnificent 100 (Malayalam: Noorinte nettam). Editorial, September 10, 2012. Translated by Rasmi Binoy, presented by A Correspondent\n",
      "   downloading http://www.thehindu.com/multimedia/archive/01204/MalayalamIsroEdit_1204720a.mp3\n",
      "17. Missing at a home near you [Malayalam: Nashtabalyangal]. Editorial, September 8, 2012. Translated by Rasmi Binoy, presented by A Correspondent\n",
      "   downloading http://www.thehindu.com/multimedia/archive/01204/MalayalamMissingEd_1204698a.mp3\n",
      "18. In the company of men [Malayalam: Thozhil samathvathilekkoru kalvaypu]. Editorial, September 7, 2012. Translated by Rasmi Binoy, presented by A Correspondent\n",
      "   downloading http://www.thehindu.com/multimedia/archive/01202/MalayalamGenderEdi_1202883a.mp3\n",
      "19. Sivakasi, the destroyer [Malayalam: Sivakasi enna samharamurthi]. Editorial, September 6, 2012. Translated by Rasmi Binoy, presented by A Correspondent\n",
      "   downloading http://www.thehindu.com/multimedia/archive/01202/MalayalamSivakasiE_1202878a.mp3\n",
      "20. From Bodoland to Bangalore [Malayalam: Bodoland muthal Bangalore vare]. Editorial, September 5, 2012. Translated by Rasmi Binoy, presented by A Correspondent\n",
      "   downloading http://www.thehindu.com/multimedia/archive/01200/MalayalamBodoEdit_1200928a.mp3\n"
     ]
    }
   ],
   "source": [
    "fetch_thehindu_episodes()"
   ]
  }
 ],
 "metadata": {
  "kernelspec": {
   "display_name": "Python 3",
   "language": "python",
   "name": "python3"
  },
  "language_info": {
   "codemirror_mode": {
    "name": "ipython",
    "version": 3
   },
   "file_extension": ".py",
   "mimetype": "text/x-python",
   "name": "python",
   "nbconvert_exporter": "python",
   "pygments_lexer": "ipython3",
   "version": "3.4.2"
  }
 },
 "nbformat": 4,
 "nbformat_minor": 0
}
