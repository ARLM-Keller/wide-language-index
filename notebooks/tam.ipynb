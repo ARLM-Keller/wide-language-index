{
 "cells": [
  {
   "cell_type": "markdown",
   "metadata": {},
   "source": [
    "# Tamil (tam)\n",
    "\n",
    "Manually scraping podcasts for Tamil from html pages."
   ]
  },
  {
   "cell_type": "code",
   "execution_count": 1,
   "metadata": {
    "collapsed": false
   },
   "outputs": [],
   "source": [
    "from pyquery import PyQuery as pq\n",
    "import parse\n",
    "import dateutil\n",
    "import sys\n",
    "\n",
    "import sys; sys.path.append(\"../src\")\n",
    "import index\n",
    "import fetch_rss_feed"
   ]
  },
  {
   "cell_type": "code",
   "execution_count": 2,
   "metadata": {
    "collapsed": true
   },
   "outputs": [],
   "source": [
    "LANGUAGE = 'tam'"
   ]
  },
  {
   "cell_type": "markdown",
   "metadata": {},
   "source": [
    "## The Hindu\n",
    "\n",
    "The Hindu has a list of editorials translated into Tamil audio. We fetch them here."
   ]
  },
  {
   "cell_type": "code",
   "execution_count": 3,
   "metadata": {
    "collapsed": true
   },
   "outputs": [],
   "source": [
    "def date_from_title(t):\n",
    "    date_s = parse.parse(\n",
    "        '{prefix}orial, {date} Translated {suffix}',\n",
    "        t\n",
    "    ).named['date'].rstrip('.')\n",
    "    return dateutil.parser.parse(date_s).date()"
   ]
  },
  {
   "cell_type": "code",
   "execution_count": 4,
   "metadata": {
    "collapsed": false
   },
   "outputs": [],
   "source": [
    "def fetch_thehindu_episodes(max_episodes=20):\n",
    "    url = 'http://www.thehindu.com/opinion/editorial/article2612204.ece'\n",
    "    doc = pq(url)\n",
    "    seen = index.scan()\n",
    "\n",
    "    for i, div in enumerate(doc('div.stdArtpageRelCt')[:max_episodes]):\n",
    "        title = div.text_content().strip()\n",
    "        href = div.find('.//a').attrib['href']\n",
    "        media_url = fetch_rss_feed.get_audio_link(href)\n",
    "        if not media_url:\n",
    "            print('{0}. {1} (no audio, skipping)'.format(i + 1, title))\n",
    "            continue\n",
    "        \n",
    "        if href in seen or media_url in seen:\n",
    "            print('{0}. {1} (skipping)'.format(i + 1, title))\n",
    "            continue\n",
    "\n",
    "        print('{0}. {1}'.format(i + 1, title))\n",
    "        try:\n",
    "            date = date_from_title(title)\n",
    "        except (AttributeError, ValueError) as e:\n",
    "            print('SKIPPING: bad title')\n",
    "            continue\n",
    "            \n",
    "        sample = {\n",
    "            'language': LANGUAGE,\n",
    "            'title': title,\n",
    "            'source_name': 'The Hindu: Podcasts in Tamil',\n",
    "            'source_url': href,\n",
    "            'media_urls': [media_url],\n",
    "            'date': str(date),\n",
    "        }\n",
    "        sys.stdout.flush()\n",
    "\n",
    "        staged = index.stage_audio(media_url, LANGUAGE)\n",
    "        sample['checksum'] = staged.checksum\n",
    "        if staged.checksum in seen:\n",
    "            print('SKIPPING: checksum already in index')\n",
    "\n",
    "        index.save(sample)"
   ]
  },
  {
   "cell_type": "code",
   "execution_count": 5,
   "metadata": {
    "collapsed": false,
    "scrolled": true
   },
   "outputs": [
    {
     "name": "stdout",
     "output_type": "stream",
     "text": [
      "1. Reviving dead rivers [Tamil: Uyirkkodukkavendiya neerottamatra aarugal] Editorial, December 8, 2012. Translated and presented by V.B. Ganesan\n",
      "   downloading http://www.thehindu.com/multimedia/archive/01292/Yamunai_1292506a.mp3\n",
      "   downloading audio...\n",
      "2. Who's afraid of moral defeat [Tamil: Nerumurai tholvi patri yaar kavalaip patrathu?] Editorial, December 07, 2012. Translated and presented by V.B. Ganesan\n",
      "   downloading http://www.thehindu.com/multimedia/archive/01291/FDI_1291407a.mp3\n",
      "   downloading audio...\n",
      "3. A party in retreat [Tamil: Pin vangum oru katchi] Editorial, December 6, 2012. Translated and presented by T.A. Narasimhan\n",
      "   downloading http://www.thehindu.com/multimedia/archive/01290/Pinvaangum_oru_kat_1290316a.mp3\n",
      "   downloading audio...\n",
      "4. Time to clean up our game [Tamil: Nam vilaiyattai suththapadutha vendiya neram] Editorial, December 5, 2012. Translated by A. Kumaresan, presented by V.B. Ganesan\n",
      "   downloading http://www.thehindu.com/multimedia/archive/01289/Nam_Vilaiyattai_Su_1289069a.mp3\n",
      "   downloading audio...\n",
      "5. Memorialising Thackeray [Tamil: Thackerayvukku ninaivagam] Editorial, December 4, 2012. Translated by D.I. Aravindan, presented by V.B. Ganesan\n",
      "   downloading http://www.thehindu.com/multimedia/archive/01288/TamilThackerayEdit_1288013a.mp3\n",
      "   downloading audio...\n",
      "6. Mining politics for a second lease [Tamil: Arasiyal arangaththil irandavadhu aattam] Editorial, December 3, 2012. Translated by D.I. Aravindan, presented by V.B. Ganesan\n",
      "   downloading http://www.thehindu.com/multimedia/archive/01289/Arasiyal_Arangathi_1289068a.mp3\n",
      "   downloading audio...\n",
      "7. A step closer to Palestine [Tamil: Palstinaththai nokkiya nerukkamaana adivaippu] Editorial, December 1, 2012. Translated and presented by V.B. Ganesan\n",
      "   downloading http://www.thehindu.com/multimedia/archive/01287/Palstene_1st_decem_1287007a.mp3\n",
      "   downloading audio...\n",
      "8. Ponting's unique legacy [Tamil: Pontingin thaniththuvamaana parampariyam] Editorial, November 30, 2012. Translated and presented by V.B. Ganesan\n",
      "   downloading http://www.thehindu.com/multimedia/archive/01287/Ricky_Ponting_30th_1287006a.mp3\n",
      "   downloading audio...\n",
      "9. Making talks meaningful [Tamil: pEchchuvaarthaiyai payanulladhaakka] Editorial, November 29, 2012. Translated and presented by V.B. Ganesan\n",
      "   downloading http://www.thehindu.com/multimedia/archive/01285/Kaveri_29th_1285248a.mp3\n",
      "   downloading audio...\n",
      "10. Aam Aadmi reborn [Tamil: Aam aadmiyin marupirappu] Editorial, November 28, 2012. Translated by A. Kumaresan, presented by V.B. Ganesan\n",
      "   downloading http://www.thehindu.com/multimedia/archive/01285/Aaam_athmi_1285247a.mp3\n",
      "   downloading audio...\n",
      "11. The plot thickens [Tamil: Irugum sadhivalai] Editorial, November 27, 2012. Translated by D.I. Aravindan, presented by V.B. Ganesan\n",
      "   downloading http://www.thehindu.com/multimedia/archive/01281/Irugum_sadhivalai_1281133a.mp3\n",
      "   downloading audio...\n",
      "12. Needless controversy [Tamil: Thevaiyatra charchchai] Editorial, November 26, 2012. Translated by D.I. Aravindan, presented by V.B. Ganesan\n",
      "   downloading http://www.thehindu.com/multimedia/archive/01280/thevayatra_churcha_1280383a.mp3\n",
      "   downloading audio...\n",
      "13. Minimum proof, maximum sentence [Tamil: Kuraindhapatcha aadharam adhigapatcha dhandanai] Editorial, November 24, 2012. Translated and presented by V.B. Ganesan\n",
      "   downloading http://www.thehindu.com/multimedia/archive/01280/Kurainthapathcha_a_1280378a.mp3\n",
      "   downloading audio...\n",
      "14. Sealing the cracks [Tamil: Adaikka vendiya ottaigal] Editorial, November 23, 2012. Translated and presented by V.B. Ganesan\n",
      "   downloading http://www.thehindu.com/multimedia/archive/01280/Adaika_vendiya_ott_1280275a.mp3\n",
      "   downloading audio...\n",
      "15. The hangman's justice [Tamil: Thookkumedaiyin needhi] Editorial, November 22, 2012. Translated and presented by V.B. Ganesan\n",
      "   downloading http://www.thehindu.com/multimedia/archive/01276/Ajmal_Kasab_1276604a.mp3\n",
      "   downloading audio...\n",
      "16. Unfriend the thought police [Tamil: Sinthanaiyaik kaavalarodu inakkam vendaam] Editorial, November 21, 2012. Translated by A. Kumaresan, presented by V.B. Ganesan\n",
      "   downloading http://www.thehindu.com/multimedia/archive/01276/Facebook_Arrest_1276605a.mp3\n",
      "   downloading audio...\n",
      "17. Congress in the time of Rahul [Tamil: Rahul kaalaththil kaangiras] Editorial, November 20, 2012. Translated by D.I. Aravindan, presented by V.B. Ganesan\n",
      "   downloading http://www.thehindu.com/multimedia/archive/01274/Rahul_Kaalathil_Co_1274388a.mp3\n",
      "   downloading audio...\n",
      "18. A troubling legacy [Tamil: Kavalaith tharum chuvadugal] Editorial, November 19, 2012. Translated by D.I. Aravindan, presented by V.B. Ganesan\n",
      "   downloading http://www.thehindu.com/multimedia/archive/01273/19th_Nov_pal_thaka_1273460a.mp3\n",
      "   downloading audio...\n",
      "19. A necessary catharsis [Tamil: Avasiyamaana suththikarippu] Editorial, November 17, 2012. Translated and presented by V.B. Ganesan\n",
      "   downloading http://www.thehindu.com/multimedia/archive/01274/17TamilSrilanka_1274344a.mp3\n",
      "   downloading audio...\n",
      "20. A triple whammy [Tamil: Mummunaiyaai velivarum saabam] Editorial, November 15, 2012. Translated and presented by V.B. Ganesan\n",
      "   downloading http://www.thehindu.com/multimedia/archive/01274/15TamilEconomy_1274341a.mp3\n",
      "   downloading audio...\n"
     ]
    }
   ],
   "source": [
    "fetch_thehindu_episodes()"
   ]
  }
 ],
 "metadata": {
  "kernelspec": {
   "display_name": "Python 3",
   "language": "python",
   "name": "python3"
  },
  "language_info": {
   "codemirror_mode": {
    "name": "ipython",
    "version": 3
   },
   "file_extension": ".py",
   "mimetype": "text/x-python",
   "name": "python",
   "nbconvert_exporter": "python",
   "pygments_lexer": "ipython3",
   "version": "3.4.2"
  }
 },
 "nbformat": 4,
 "nbformat_minor": 0
}
