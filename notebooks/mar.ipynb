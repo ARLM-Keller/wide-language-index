{
 "cells": [
  {
   "cell_type": "markdown",
   "metadata": {},
   "source": [
    "# Marathi (mar)"
   ]
  },
  {
   "cell_type": "markdown",
   "metadata": {},
   "source": [
    "## Filtered RSS feed"
   ]
  },
  {
   "cell_type": "code",
   "execution_count": 1,
   "metadata": {
    "collapsed": true
   },
   "outputs": [],
   "source": [
    "import feedparser\n",
    "import itertools\n",
    "import sys\n",
    "import parse\n",
    "import dateutil\n",
    "\n",
    "sys.path.append('../src')\n",
    "import index\n",
    "import fetch_rss_feed"
   ]
  },
  {
   "cell_type": "code",
   "execution_count": 2,
   "metadata": {
    "collapsed": true
   },
   "outputs": [],
   "source": [
    "RSS_URL = 'http://www.newsonair.com/reg.asp'\n",
    "SOURCE_NAME = 'AIR Language Bulletins (Regional)'\n",
    "LANGUAGE = 'mar'"
   ]
  },
  {
   "cell_type": "code",
   "execution_count": 3,
   "metadata": {
    "collapsed": false
   },
   "outputs": [],
   "source": [
    "def iter_entries():\n",
    "    f = feedparser.parse(RSS_URL)\n",
    "    for e in f['entries']:\n",
    "        if 'Marathi' in e['title']:\n",
    "            yield e"
   ]
  },
  {
   "cell_type": "code",
   "execution_count": 4,
   "metadata": {
    "collapsed": true
   },
   "outputs": [],
   "source": [
    "def parse_date(e):\n",
    "    date_s = parse.parse('<p>{}</p><a href{}',\n",
    "                         e['summary']).fixed[0]\n",
    "    date_s = date_s.replace('&nbsp;', ' ')\n",
    "    return dateutil.parser.parse(date_s).date()"
   ]
  },
  {
   "cell_type": "code",
   "execution_count": 5,
   "metadata": {
    "collapsed": false
   },
   "outputs": [
    {
     "name": "stdout",
     "output_type": "stream",
     "text": [
      "1. Aurangabad : Marathi : 0650 hrs (skipping)\n",
      "2. Aurangabad : Marathi : 1300 hrs (skipping)\n",
      "3. Aurangabad : Marathi : 1725 hrs (skipping)\n",
      "4. Mumbai : Marathi : 1035 hrs (skipping)\n",
      "5. Mumbai : Marathi : 1345 hrs (skipping)\n",
      "6. Mumbai : Marathi : 1815 hrs (skipping)\n",
      "7. Mumbai : Marathi : 1900 hrs (skipping)\n",
      "8. Nagpur : Marathi : 1845 hrs (skipping)\n",
      "9. Pune : Marathi : 0710 hrs (skipping)\n"
     ]
    }
   ],
   "source": [
    "seen = index.scan()\n",
    "entries = itertools.islice(iter_entries(), 20)\n",
    "for i, e in enumerate(entries):\n",
    "    title = e['title']\n",
    "    media_url = fetch_rss_feed.detect_media_url(e, {})\n",
    "    date = parse_date(e)\n",
    "    \n",
    "    if media_url in seen:\n",
    "        print('{0}. {1} (skipping)'.format(i + 1, title), flush=True)\n",
    "        continue\n",
    "    \n",
    "    print('{0}. {1}'.format(i + 1, title), flush=True)\n",
    "\n",
    "    staged = index.stage_audio(media_url, LANGUAGE)\n",
    "    if staged.checksum in seen:\n",
    "        print('   SKIPPING: checksum already present')\n",
    "        continue\n",
    "\n",
    "    sample = {\n",
    "        'title': title,\n",
    "        'media_urls': [media_url],\n",
    "        'source_url': media_url,\n",
    "        'source_name': SOURCE_NAME,\n",
    "        'language': LANGUAGE,\n",
    "        'date': str(date),\n",
    "        'checksum': staged.checksum,\n",
    "    }\n",
    "    index.save(sample)\n",
    "    index.mark_as_seen(sample, seen)"
   ]
  }
 ],
 "metadata": {
  "kernelspec": {
   "display_name": "Python 3",
   "language": "python",
   "name": "python3"
  },
  "language_info": {
   "codemirror_mode": {
    "name": "ipython",
    "version": 3
   },
   "file_extension": ".py",
   "mimetype": "text/x-python",
   "name": "python",
   "nbconvert_exporter": "python",
   "pygments_lexer": "ipython3",
   "version": "3.4.2"
  }
 },
 "nbformat": 4,
 "nbformat_minor": 0
}
