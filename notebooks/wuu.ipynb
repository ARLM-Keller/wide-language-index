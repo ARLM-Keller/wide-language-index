{
 "cells": [
  {
   "cell_type": "markdown",
   "metadata": {},
   "source": [
    "# Wu Chinese (wuu)\n",
    "\n",
    "The Wu Chinese language is spoken in the region of China around Shanghai, but isn't heard much due to Chinese government regulations preventing broadcasts in languages other than Mandarin (cmn).\n",
    "\n",
    "This means we need to get creative about how we source Wu Chinese samples."
   ]
  },
  {
   "cell_type": "markdown",
   "metadata": {},
   "source": [
    "## Phonemica\n",
    "\n",
    "Phonemica is a site that allows people to record stories in their local dialect. We'll try to fetch samples from around Shanghai."
   ]
  },
  {
   "cell_type": "code",
   "execution_count": 1,
   "metadata": {
    "collapsed": true
   },
   "outputs": [],
   "source": [
    "API_URL = 'http://phonemica.net/entry?id={0}'\n",
    "START_ID = 2"
   ]
  },
  {
   "cell_type": "code",
   "execution_count": 2,
   "metadata": {
    "collapsed": true
   },
   "outputs": [],
   "source": [
    "import sys\n",
    "from pyquery import PyQuery as pq\n",
    "import parse\n",
    "from collections import Counter\n",
    "import urllib\n",
    "import itertools\n",
    "import datetime as dt\n",
    "\n",
    "sys.path.append('../src')\n",
    "import index"
   ]
  },
  {
   "cell_type": "markdown",
   "metadata": {},
   "source": [
    "### Dialects available\n",
    "\n",
    "Let's look at the first 100 dialects available."
   ]
  },
  {
   "cell_type": "code",
   "execution_count": 3,
   "metadata": {
    "collapsed": true
   },
   "outputs": [],
   "source": [
    "def fix(s):\n",
    "    return s.encode('latin-1').decode('utf-8')"
   ]
  },
  {
   "cell_type": "code",
   "execution_count": 4,
   "metadata": {
    "collapsed": false
   },
   "outputs": [],
   "source": [
    "START_ID = 2\n",
    "\n",
    "def get_lang(doc):\n",
    "    p = doc('label.managemuyu').closest('p')[0]\n",
    "    text = fix(p.text_content())\n",
    "    _, lang = text.split(':')\n",
    "    return lang.strip()\n",
    "\n",
    "def get_storyteller_url(i):\n",
    "    doc = pq(API_URL.format(i))\n",
    "    doc_s = pq.html(doc)\n",
    "    url_end = parse.parse(\"{}window.location.href='{}';{}\", doc_s).fixed[1]\n",
    "    url = 'http://phonemica.net' + url_end\n",
    "    return url\n",
    "\n",
    "def iter_entries(start_id=START_ID):\n",
    "    for i in itertools.count(start_id):\n",
    "        yield get_storyteller_url(i)"
   ]
  },
  {
   "cell_type": "code",
   "execution_count": 5,
   "metadata": {
    "collapsed": false
   },
   "outputs": [
    {
     "name": "stdout",
     "output_type": "stream",
     "text": [
      "....................................................................................................\n"
     ]
    },
    {
     "data": {
      "text/plain": [
       "Counter({'官话 普通话': 10, '官话 西南官话 湖广片': 6, '官话 西南官话 川黔片': 5, '吴语 太湖片 上海小片': 4, '粤语 广府片': 4, '吴语 太湖片 苏嘉湖小片': 4, '闽语 闽南片 泉漳小片': 3, '赣语 鹰弋片': 3, '官话 江淮官话 洪巢片': 3, '晋语 张呼片': 2, '赣语 大通片': 2, '吴语 宣州片 太高小片': 2, '官话 冀鲁官话 石济片': 2, '吴语 台州片': 2, '吴语 太湖片 毗陵小片': 2, '湘语 长益片 长株潭小片': 2, '客语 粤台片 梅惠小片': 2, '赣语 昌都片': 2, '官话 中原官话 郑开片': 2, '官话 中原官话西 秦晋片': 2, '湘语 邵祁片 东祁小片': 2, '晋语 邯新片': 1, '官话 江淮官话 通泰片': 1, '赣语 抚广片': 1, '吴语 太湖片 甬江小片': 1, '粤语 高阳片': 1, '官话 西南官话 桂柳片': 1, '吴语 金衢片': 1, '客语 海陆片': 1, '平话和土话 桂南片': 1, '客语 粤西片': 1, '吴语 上丽片 上山小片': 1, '闽语 莆仙片 莆田小片': 1, '湘语 湘中片 新化小片': 1, '赣语 宜浏片': 1, '晋语 大包片': 1, '官话 西南官话 西蜀片': 1, '官话 中原官话 徐淮片': 1, '官话 东北官话': 1, '晋语 上党片': 1, '吴语 太湖片 临绍小片': 1, '闽语 闽南片 潮汕小片': 1, '官话 兰银官话 银吴片': 1})"
      ]
     },
     "execution_count": 5,
     "metadata": {},
     "output_type": "execute_result"
    }
   ],
   "source": [
    "dialects = Counter()\n",
    "\n",
    "for url in itertools.islice(iter_entries(), 100):\n",
    "    sys.stdout.write('.')\n",
    "    sys.stdout.flush()\n",
    "    try:\n",
    "        doc = pq(url)\n",
    "    except urllib.error.HTTPError:\n",
    "        continue\n",
    "    \n",
    "    lang = get_lang(doc)\n",
    "    dialects[lang] += 1\n",
    "\n",
    "print()\n",
    "dialects"
   ]
  },
  {
   "cell_type": "code",
   "execution_count": 6,
   "metadata": {
    "collapsed": false
   },
   "outputs": [
    {
     "data": {
      "text/plain": [
       "{'吴语 上丽片 上山小片': 1,\n",
       " '吴语 台州片': 2,\n",
       " '吴语 太湖片 上海小片': 4,\n",
       " '吴语 太湖片 临绍小片': 1,\n",
       " '吴语 太湖片 毗陵小片': 2,\n",
       " '吴语 太湖片 甬江小片': 1,\n",
       " '吴语 太湖片 苏嘉湖小片': 4,\n",
       " '吴语 宣州片 太高小片': 2,\n",
       " '吴语 金衢片': 1}"
      ]
     },
     "execution_count": 6,
     "metadata": {},
     "output_type": "execute_result"
    }
   ],
   "source": [
    "wu = {k: v for (k, v) in dialects.items()\n",
    "      if k.startswith('吴语')}\n",
    "wu"
   ]
  },
  {
   "cell_type": "code",
   "execution_count": 7,
   "metadata": {
    "collapsed": false
   },
   "outputs": [
    {
     "data": {
      "text/plain": [
       "18"
      ]
     },
     "execution_count": 7,
     "metadata": {},
     "output_type": "execute_result"
    }
   ],
   "source": [
    "sum(wu.values())"
   ]
  },
  {
   "cell_type": "markdown",
   "metadata": {},
   "source": [
    "So about 20% of the cases are Wu Chinese variants. Let's try fetching some of those."
   ]
  },
  {
   "cell_type": "markdown",
   "metadata": {},
   "source": [
    "### Fetching Wu audio"
   ]
  },
  {
   "cell_type": "code",
   "execution_count": 8,
   "metadata": {
    "collapsed": true
   },
   "outputs": [],
   "source": [
    "def get_media_url(storyteller_id, story_id):\n",
    "    return 'http://phonemica.net/files/{0}/{1}.mp3'.format(storyteller_id, story_id)"
   ]
  },
  {
   "cell_type": "code",
   "execution_count": 9,
   "metadata": {
    "collapsed": false
   },
   "outputs": [],
   "source": [
    "def get_date(storyteller_id, story_id):\n",
    "    url = 'http://phonemica.net/entry?mid={0}&story={1}'.format(storyteller_id, story_id)\n",
    "    doc = pq(url)\n",
    "    date_s = doc('small[style=\"float: right\"]')[1].text_content()\n",
    "    assert len(date_s.split()[0]) == 8\n",
    "    year = int(date_s[:4])\n",
    "    month = int(date_s[4:6])\n",
    "    day = int(date_s[6:8])\n",
    "    return dt.date(year, month, day)\n",
    "\n",
    "\n",
    "def iter_wu_entries():\n",
    "    for url in iter_entries():\n",
    "        try:\n",
    "            doc = pq(url)\n",
    "        except urllib.error.HTTPError:\n",
    "            continue\n",
    "\n",
    "        lang = get_lang(doc)\n",
    "        if lang.startswith('吴语'):\n",
    "            yield url, doc\n",
    "\n",
    "\n",
    "def index_wu_entries(max_samples=20):\n",
    "    seen = index.scan()\n",
    "\n",
    "    for i, (url, doc) in enumerate(iter_wu_entries()):\n",
    "        if i >= max_samples:\n",
    "            break\n",
    "            \n",
    "        a = doc('li')[0].find('.//a')\n",
    "        storyteller_id, story_id = parse.parse('/entry?mid={}&story={}',\n",
    "                                               a.attrib['href']).fixed\n",
    "        title = fix(a.text_content())\n",
    "        media_url = get_media_url(storyteller_id, story_id)\n",
    "        date = get_date(storyteller_id, story_id)\n",
    "\n",
    "        if url in seen or media_url in seen:\n",
    "            print('{0}. {1} (skipped)'.format(i + 1, title), flush=True)\n",
    "            continue\n",
    "\n",
    "        print('{0}. {1}'.format(i + 1, title), flush=True)\n",
    "\n",
    "        sample = {\n",
    "            'language': 'wuu',\n",
    "            'source_url': url,\n",
    "            'source_name': 'Phonemica',\n",
    "            'media_urls': [media_url],\n",
    "            'title': title,\n",
    "            'date': str(date)\n",
    "        }\n",
    "        staged = index.stage_audio(media_url, 'wuu')\n",
    "        sample['checksum'] = staged.checksum\n",
    "\n",
    "        if staged.checksum in seen:\n",
    "            print('   SKIPPING: checksum already in index', flush=True)\n",
    "            continue\n",
    "\n",
    "        index.save(sample)"
   ]
  },
  {
   "cell_type": "code",
   "execution_count": 10,
   "metadata": {
    "collapsed": false
   },
   "outputs": [
    {
     "name": "stdout",
     "output_type": "stream",
     "text": [
      "1. 那种很怪的梦 (skipped)\n",
      "2. 我爷爷奶奶的爱情故事 (skipped)\n",
      "3. 金山农民画我们这里还有人画吗？ (skipped)\n",
      "4. 浙江湖州的一個故事 (skipped)\n",
      "5. 到上海白相必去個地方 (skipped)\n",
      "6. 下一句：是不是在上网啊？ (skipped)\n",
      "7. 南京高淳的一个故事 (skipped)\n",
      "8. 海门的一个故事 (skipped)\n",
      "9. 上海杨浦的一个故事 (skipped)\n",
      "10. 绍兴的一个故事 (skipped)\n",
      "11. 宁波的一个故事 (skipped)\n",
      "12. 苏州的一个故事 (skipped)\n",
      "13. 他一气，就亲自把那个人杀了 (skipped)\n",
      "14. 无锡的一个故事 (skipped)\n",
      "15. 上饶市的一个故事 (skipped)\n",
      "16. 东阳的一个故事 (skipped)\n",
      "17. 台州离家出走 (skipped)\n",
      "18. 台州市的一个故事 (skipped)\n",
      "19. 宜兴的一个故事 (skipped)\n",
      "20. 苏州市的一个故事 (skipped)\n"
     ]
    }
   ],
   "source": [
    "index_wu_entries()"
   ]
  }
 ],
 "metadata": {
  "kernelspec": {
   "display_name": "Python 3",
   "language": "python",
   "name": "python3"
  },
  "language_info": {
   "codemirror_mode": {
    "name": "ipython",
    "version": 3
   },
   "file_extension": ".py",
   "mimetype": "text/x-python",
   "name": "python",
   "nbconvert_exporter": "python",
   "pygments_lexer": "ipython3",
   "version": "3.4.2"
  }
 },
 "nbformat": 4,
 "nbformat_minor": 0
}
